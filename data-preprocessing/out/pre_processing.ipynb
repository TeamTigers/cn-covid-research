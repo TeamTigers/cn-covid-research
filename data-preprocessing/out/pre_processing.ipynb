{
  "nbformat": 4,
  "nbformat_minor": 0,
  "metadata": {
    "colab": {
      "name": "pre-processing.ipynb",
      "provenance": []
    },
    "kernelspec": {
      "name": "python3",
      "display_name": "Python 3"
    }
  },
  "cells": [
    {
      "cell_type": "code",
      "metadata": {
        "id": "a-_mkyHmSUly",
        "colab_type": "code",
        "colab": {}
      },
      "source": [
        "import numpy as np\n",
        "import pandas as pd"
      ],
      "execution_count": 1,
      "outputs": []
    },
    {
      "cell_type": "code",
      "metadata": {
        "id": "_H-L6DWOVbEw",
        "colab_type": "code",
        "colab": {
          "base_uri": "https://localhost:8080/",
          "height": 142
        },
        "outputId": "e20d6c0c-3de1-4781-eef6-fcc4ff620a4d"
      },
      "source": [
        "data_set_url = 'https://github.com/shunjid/cn-covid-storybook/blob/master/data-re-translation/out/covid-en-0.9.csv?raw=true'\n",
        "df = pd.read_csv(filepath_or_buffer=data_set_url)\n",
        "df.head(3)"
      ],
      "execution_count": 2,
      "outputs": [
        {
          "output_type": "execute_result",
          "data": {
            "text/html": [
              "<div>\n",
              "<style scoped>\n",
              "    .dataframe tbody tr th:only-of-type {\n",
              "        vertical-align: middle;\n",
              "    }\n",
              "\n",
              "    .dataframe tbody tr th {\n",
              "        vertical-align: top;\n",
              "    }\n",
              "\n",
              "    .dataframe thead th {\n",
              "        text-align: right;\n",
              "    }\n",
              "</style>\n",
              "<table border=\"1\" class=\"dataframe\">\n",
              "  <thead>\n",
              "    <tr style=\"text-align: right;\">\n",
              "      <th></th>\n",
              "      <th>Age</th>\n",
              "      <th>Gender</th>\n",
              "      <th>Case Announcement Province</th>\n",
              "      <th>Event</th>\n",
              "      <th>Description</th>\n",
              "    </tr>\n",
              "  </thead>\n",
              "  <tbody>\n",
              "    <tr>\n",
              "      <th>0</th>\n",
              "      <td>58</td>\n",
              "      <td>female</td>\n",
              "      <td>Sichuan Province</td>\n",
              "      <td>visit patient</td>\n",
              "      <td>On January 26, 10:00, visit the patient at Shi...</td>\n",
              "    </tr>\n",
              "    <tr>\n",
              "      <th>1</th>\n",
              "      <td>58</td>\n",
              "      <td>female</td>\n",
              "      <td>Sichuan Province</td>\n",
              "      <td>Visit a critically ill father</td>\n",
              "      <td>On January 27, 16:00, visit the critically ill...</td>\n",
              "    </tr>\n",
              "    <tr>\n",
              "      <th>2</th>\n",
              "      <td>58</td>\n",
              "      <td>female</td>\n",
              "      <td>Sichuan Province</td>\n",
              "      <td>Funeral</td>\n",
              "      <td>January 31-February 5, funeral in Baohua Villa...</td>\n",
              "    </tr>\n",
              "  </tbody>\n",
              "</table>\n",
              "</div>"
            ],
            "text/plain": [
              "   Age  ...                                        Description\n",
              "0   58  ...  On January 26, 10:00, visit the patient at Shi...\n",
              "1   58  ...  On January 27, 16:00, visit the critically ill...\n",
              "2   58  ...  January 31-February 5, funeral in Baohua Villa...\n",
              "\n",
              "[3 rows x 5 columns]"
            ]
          },
          "metadata": {
            "tags": []
          },
          "execution_count": 2
        }
      ]
    },
    {
      "cell_type": "markdown",
      "metadata": {
        "id": "DbetCSykVtux",
        "colab_type": "text"
      },
      "source": [
        "# Keyword matching algorithm\n",
        "\n",
        "In this section, we will be working with our translated dataset. This algorithm will be matching each of expected keywords to be present in a list of decription or, not and will return a binary list that contains 0/1 as per order of the description.\n",
        "\n",
        "**Reason:** To identify and extract possible symptomps of a COVID-19 patient in the list of description."
      ]
    },
    {
      "cell_type": "code",
      "metadata": {
        "id": "tLcTPmxUVq3H",
        "colab_type": "code",
        "colab": {}
      },
      "source": [
        "def match_keywords(description_list, keywords_list):\n",
        "  matched_binary_list = []\n",
        "  # to convert NaN into ''\n",
        "  filtered_list = ['' if x is np.nan else x for x in description_list]\n",
        "\n",
        "  # iterate and match\n",
        "  for item in filtered_list:\n",
        "    lower_text = item.lower()\n",
        "\n",
        "    if any(x in lower_text for x in keywords_list):\n",
        "      matched_binary_list.append(1)\n",
        "    else:\n",
        "      matched_binary_list.append(0)\n",
        "\n",
        "\n",
        "  return matched_binary_list"
      ],
      "execution_count": 3,
      "outputs": []
    },
    {
      "cell_type": "markdown",
      "metadata": {
        "id": "LeSYXGr1d9l7",
        "colab_type": "text"
      },
      "source": [
        "# Prepare and test NaN for our dataset"
      ]
    },
    {
      "cell_type": "code",
      "metadata": {
        "id": "Hl05KQC4d3yk",
        "colab_type": "code",
        "colab": {}
      },
      "source": [
        "# find columns NaN percentage\n",
        "def check_nan(_df) : \n",
        "  percent_nan = _df.isnull().sum() * 100 / len(_df)\n",
        "  missing_value_in_df = pd.DataFrame(\n",
        "      {\n",
        "          'percent_nan': round(percent_nan, 2)\n",
        "      }\n",
        "  )\n",
        "  print(missing_value_in_df)"
      ],
      "execution_count": 4,
      "outputs": []
    },
    {
      "cell_type": "code",
      "metadata": {
        "id": "Cw8lik0ng2Hu",
        "colab_type": "code",
        "colab": {}
      },
      "source": [
        "# We have some NaN in Event\n",
        "# So replacing them with ''\n",
        "\n",
        "df.fillna(value='', inplace=True)"
      ],
      "execution_count": 5,
      "outputs": []
    },
    {
      "cell_type": "code",
      "metadata": {
        "id": "wetXXGPafDhK",
        "colab_type": "code",
        "colab": {
          "base_uri": "https://localhost:8080/",
          "height": 204
        },
        "outputId": "57379f0a-b157-4adc-b440-b1ea747b0024"
      },
      "source": [
        "# merge description and event\n",
        "df_desc_event = (df['Description'] + ' ' + df['Event']).to_frame(name='description')\n",
        "df_desc_event.head()"
      ],
      "execution_count": 6,
      "outputs": [
        {
          "output_type": "execute_result",
          "data": {
            "text/html": [
              "<div>\n",
              "<style scoped>\n",
              "    .dataframe tbody tr th:only-of-type {\n",
              "        vertical-align: middle;\n",
              "    }\n",
              "\n",
              "    .dataframe tbody tr th {\n",
              "        vertical-align: top;\n",
              "    }\n",
              "\n",
              "    .dataframe thead th {\n",
              "        text-align: right;\n",
              "    }\n",
              "</style>\n",
              "<table border=\"1\" class=\"dataframe\">\n",
              "  <thead>\n",
              "    <tr style=\"text-align: right;\">\n",
              "      <th></th>\n",
              "      <th>description</th>\n",
              "    </tr>\n",
              "  </thead>\n",
              "  <tbody>\n",
              "    <tr>\n",
              "      <th>0</th>\n",
              "      <td>On January 26, 10:00, visit the patient at Shi...</td>\n",
              "    </tr>\n",
              "    <tr>\n",
              "      <th>1</th>\n",
              "      <td>On January 27, 16:00, visit the critically ill...</td>\n",
              "    </tr>\n",
              "    <tr>\n",
              "      <th>2</th>\n",
              "      <td>January 31-February 5, funeral in Baohua Villa...</td>\n",
              "    </tr>\n",
              "    <tr>\n",
              "      <th>3</th>\n",
              "      <td>On February 9, at 20:00, a close contact with ...</td>\n",
              "    </tr>\n",
              "    <tr>\n",
              "      <th>4</th>\n",
              "      <td>On January 19th, Lei Mouying returned from Wuh...</td>\n",
              "    </tr>\n",
              "  </tbody>\n",
              "</table>\n",
              "</div>"
            ],
            "text/plain": [
              "                                         description\n",
              "0  On January 26, 10:00, visit the patient at Shi...\n",
              "1  On January 27, 16:00, visit the critically ill...\n",
              "2  January 31-February 5, funeral in Baohua Villa...\n",
              "3  On February 9, at 20:00, a close contact with ...\n",
              "4  On January 19th, Lei Mouying returned from Wuh..."
            ]
          },
          "metadata": {
            "tags": []
          },
          "execution_count": 6
        }
      ]
    },
    {
      "cell_type": "code",
      "metadata": {
        "id": "IlZ2Dm-rfYwI",
        "colab_type": "code",
        "colab": {
          "base_uri": "https://localhost:8080/",
          "height": 51
        },
        "outputId": "7e47f972-c4df-476e-97af-dff3aeb404cc"
      },
      "source": [
        "# check NaN\n",
        "check_nan(df_desc_event)"
      ],
      "execution_count": 7,
      "outputs": [
        {
          "output_type": "stream",
          "text": [
            "             percent_nan\n",
            "description          0.0\n"
          ],
          "name": "stdout"
        }
      ]
    },
    {
      "cell_type": "markdown",
      "metadata": {
        "id": "i519TATKoWke",
        "colab_type": "text"
      },
      "source": [
        "## Match keywords through algorithm\n",
        "\n",
        "In this section, we will be matcing all possible keywords to find out the symptomps of COVID-19 patients."
      ]
    },
    {
      "cell_type": "code",
      "metadata": {
        "id": "YP1au5fomnX2",
        "colab_type": "code",
        "colab": {
          "base_uri": "https://localhost:8080/",
          "height": 34
        },
        "outputId": "f5f53869-71aa-4d70-ddf6-d4d863fb7851"
      },
      "source": [
        "# match fever\n",
        "matched_fever_list = match_keywords(df_desc_event['description'], ['fever', 'temperature'])\n",
        "len(matched_fever_list)"
      ],
      "execution_count": 8,
      "outputs": [
        {
          "output_type": "execute_result",
          "data": {
            "text/plain": [
              "9888"
            ]
          },
          "metadata": {
            "tags": []
          },
          "execution_count": 8
        }
      ]
    },
    {
      "cell_type": "code",
      "metadata": {
        "id": "qJzPWN8YovDO",
        "colab_type": "code",
        "colab": {
          "base_uri": "https://localhost:8080/",
          "height": 68
        },
        "outputId": "55395ff2-dc04-4e0f-952b-4ff3cac6ab12"
      },
      "source": [
        "df['HasFever'] = matched_fever_list\n",
        "df['HasFever'].value_counts()"
      ],
      "execution_count": 9,
      "outputs": [
        {
          "output_type": "execute_result",
          "data": {
            "text/plain": [
              "0    8852\n",
              "1    1036\n",
              "Name: HasFever, dtype: int64"
            ]
          },
          "metadata": {
            "tags": []
          },
          "execution_count": 9
        }
      ]
    },
    {
      "cell_type": "code",
      "metadata": {
        "id": "RuTeroiso4e3",
        "colab_type": "code",
        "colab": {
          "base_uri": "https://localhost:8080/",
          "height": 34
        },
        "outputId": "d218a066-71a1-4f38-8d42-ec1a6aae2760"
      },
      "source": [
        "# match cough\n",
        "matched_cough_list = match_keywords(df_desc_event['description'], ['cough', 'wheez'])\n",
        "len(matched_fever_list)"
      ],
      "execution_count": 10,
      "outputs": [
        {
          "output_type": "execute_result",
          "data": {
            "text/plain": [
              "9888"
            ]
          },
          "metadata": {
            "tags": []
          },
          "execution_count": 10
        }
      ]
    },
    {
      "cell_type": "code",
      "metadata": {
        "id": "psnjPx80p89k",
        "colab_type": "code",
        "colab": {
          "base_uri": "https://localhost:8080/",
          "height": 68
        },
        "outputId": "b4226352-97bb-43e4-aa60-3e8caff68e86"
      },
      "source": [
        "df['HasCough'] = matched_cough_list\n",
        "df['HasCough'].value_counts()"
      ],
      "execution_count": 11,
      "outputs": [
        {
          "output_type": "execute_result",
          "data": {
            "text/plain": [
              "0    9470\n",
              "1     418\n",
              "Name: HasCough, dtype: int64"
            ]
          },
          "metadata": {
            "tags": []
          },
          "execution_count": 11
        }
      ]
    },
    {
      "cell_type": "code",
      "metadata": {
        "id": "I-rj58gNqEL1",
        "colab_type": "code",
        "colab": {
          "base_uri": "https://localhost:8080/",
          "height": 34
        },
        "outputId": "07badfc3-d3e6-4fa5-f4f8-a8cd36dac34e"
      },
      "source": [
        "# match pneumonia\n",
        "matched_pneumonia_list = match_keywords(df_desc_event['description'], ['pneumonia', 'coronary'])\n",
        "len(matched_pneumonia_list)"
      ],
      "execution_count": 12,
      "outputs": [
        {
          "output_type": "execute_result",
          "data": {
            "text/plain": [
              "9888"
            ]
          },
          "metadata": {
            "tags": []
          },
          "execution_count": 12
        }
      ]
    },
    {
      "cell_type": "code",
      "metadata": {
        "id": "AP5PwWNNqeNH",
        "colab_type": "code",
        "colab": {
          "base_uri": "https://localhost:8080/",
          "height": 68
        },
        "outputId": "b16b49b7-88ac-4c2a-e0af-b26b275d1f52"
      },
      "source": [
        "df['HasPneumonia'] = matched_pneumonia_list\n",
        "df['HasPneumonia'].value_counts()"
      ],
      "execution_count": 13,
      "outputs": [
        {
          "output_type": "execute_result",
          "data": {
            "text/plain": [
              "0    9119\n",
              "1     769\n",
              "Name: HasPneumonia, dtype: int64"
            ]
          },
          "metadata": {
            "tags": []
          },
          "execution_count": 13
        }
      ]
    },
    {
      "cell_type": "code",
      "metadata": {
        "id": "2n794zERqmnp",
        "colab_type": "code",
        "colab": {
          "base_uri": "https://localhost:8080/",
          "height": 68
        },
        "outputId": "9a406a48-2362-4436-c0dd-8b4b54a74c20"
      },
      "source": [
        "# match lung infection\n",
        "matched_lunginf_list = match_keywords(df_desc_event['description'], ['lung', 'lungs', 'breath'])\n",
        "df['HasLungProblem'] = matched_lunginf_list\n",
        "df['HasLungProblem'].value_counts()"
      ],
      "execution_count": 14,
      "outputs": [
        {
          "output_type": "execute_result",
          "data": {
            "text/plain": [
              "0    9673\n",
              "1     215\n",
              "Name: HasLungProblem, dtype: int64"
            ]
          },
          "metadata": {
            "tags": []
          },
          "execution_count": 14
        }
      ]
    },
    {
      "cell_type": "code",
      "metadata": {
        "id": "LxA32SSVrnYM",
        "colab_type": "code",
        "colab": {
          "base_uri": "https://localhost:8080/",
          "height": 68
        },
        "outputId": "9ebb6a2e-d76f-4032-c660-8cfaf46953fb"
      },
      "source": [
        "# match runny nose\n",
        "matched_runnynose_list = match_keywords(df_desc_event['description'], ['runny nose', 'runny', 'nose'])\n",
        "df['HasRunnyNose'] = matched_runnynose_list\n",
        "df['HasRunnyNose'].value_counts()"
      ],
      "execution_count": 15,
      "outputs": [
        {
          "output_type": "execute_result",
          "data": {
            "text/plain": [
              "0    8998\n",
              "1     890\n",
              "Name: HasRunnyNose, dtype: int64"
            ]
          },
          "metadata": {
            "tags": []
          },
          "execution_count": 15
        }
      ]
    },
    {
      "cell_type": "code",
      "metadata": {
        "id": "L0QrO6OBsWcx",
        "colab_type": "code",
        "colab": {
          "base_uri": "https://localhost:8080/",
          "height": 68
        },
        "outputId": "ad79a0d8-5d67-4b47-ce5e-1dc6cb93f53b"
      },
      "source": [
        "# match muscle/pain problems\n",
        "matched_muscle_problem_list = match_keywords(df_desc_event['description'], ['muscle', 'muscle soreness', 'joint', 'pain', 'headache', 'weak'])\n",
        "df['HasMusclePainProblem'] = matched_muscle_problem_list\n",
        "df['HasMusclePainProblem'].value_counts()"
      ],
      "execution_count": 16,
      "outputs": [
        {
          "output_type": "execute_result",
          "data": {
            "text/plain": [
              "0    9786\n",
              "1     102\n",
              "Name: HasMusclePainProblem, dtype: int64"
            ]
          },
          "metadata": {
            "tags": []
          },
          "execution_count": 16
        }
      ]
    },
    {
      "cell_type": "code",
      "metadata": {
        "id": "2U8Co3NLszFL",
        "colab_type": "code",
        "colab": {
          "base_uri": "https://localhost:8080/",
          "height": 68
        },
        "outputId": "21b86893-b6a9-4893-9a24-b2446d469a8a"
      },
      "source": [
        "# match diarrhea problems\n",
        "matched_diarrhea_problem_list = match_keywords(df_desc_event['description'], ['diarrhea', 'Diarrhea'])\n",
        "df['HasDiarrhea'] = matched_diarrhea_problem_list\n",
        "df['HasDiarrhea'].value_counts()"
      ],
      "execution_count": 17,
      "outputs": [
        {
          "output_type": "execute_result",
          "data": {
            "text/plain": [
              "0    9859\n",
              "1      29\n",
              "Name: HasDiarrhea, dtype: int64"
            ]
          },
          "metadata": {
            "tags": []
          },
          "execution_count": 17
        }
      ]
    },
    {
      "cell_type": "code",
      "metadata": {
        "id": "eeUGpAXctcQ0",
        "colab_type": "code",
        "colab": {
          "base_uri": "https://localhost:8080/",
          "height": 68
        },
        "outputId": "fa1a4414-e3cc-4b13-f933-388a279eb814"
      },
      "source": [
        "# match travel history\n",
        "matched_travel_history_list = match_keywords(df_desc_event['description'], ['travel', 'taxi', 'bus', 'car', 'cycle', 'train', 'vehicle', 'plane', 'tour', 'tourism', 'journey', 'trip', 'move', 'relative', 'visit', 'meet', 'go '])\n",
        "df['HasTravelHistory'] = matched_travel_history_list\n",
        "df['HasTravelHistory'].value_counts()"
      ],
      "execution_count": 18,
      "outputs": [
        {
          "output_type": "execute_result",
          "data": {
            "text/plain": [
              "0    6827\n",
              "1    3061\n",
              "Name: HasTravelHistory, dtype: int64"
            ]
          },
          "metadata": {
            "tags": []
          },
          "execution_count": 18
        }
      ]
    },
    {
      "cell_type": "code",
      "metadata": {
        "id": "AZ1G5PLwvC5e",
        "colab_type": "code",
        "colab": {
          "base_uri": "https://localhost:8080/",
          "height": 68
        },
        "outputId": "c6b66629-ddc6-4461-c2a7-86f4d53fb493"
      },
      "source": [
        "# match isolation\n",
        "matched_isolation_list = match_keywords(df_desc_event['description'], ['isolation', 'isolated', 'observation', 'quarantine', 'observe', 'monitor', 'treatment', 'inspection', 'observed', 'sent to', 'sent ', 'send', 'suspect', 'suspected', 'appear', 'at home', 'given', 'medicine', 'contact', 'admission', 'admitted'])\n",
        "df['Isolation'] = matched_isolation_list\n",
        "df['Isolation'].value_counts()"
      ],
      "execution_count": 19,
      "outputs": [
        {
          "output_type": "execute_result",
          "data": {
            "text/plain": [
              "0    5578\n",
              "1    4310\n",
              "Name: Isolation, dtype: int64"
            ]
          },
          "metadata": {
            "tags": []
          },
          "execution_count": 19
        }
      ]
    },
    {
      "cell_type": "code",
      "metadata": {
        "id": "lTqH6ygVw-TA",
        "colab_type": "code",
        "colab": {
          "base_uri": "https://localhost:8080/",
          "height": 68
        },
        "outputId": "52702d08-db27-435e-d1aa-f508abf63121"
      },
      "source": [
        "# match confirmed cases\n",
        "matched_confirm_list = match_keywords(df_desc_event['description'], ['confirm', 'confirmed', 'positive', 'virus', 'corona', 'coronavirus', 'infected'])\n",
        "df['Confirmed'] = matched_confirm_list\n",
        "df['Confirmed'].value_counts()"
      ],
      "execution_count": 20,
      "outputs": [
        {
          "output_type": "execute_result",
          "data": {
            "text/plain": [
              "0    7907\n",
              "1    1981\n",
              "Name: Confirmed, dtype: int64"
            ]
          },
          "metadata": {
            "tags": []
          },
          "execution_count": 20
        }
      ]
    },
    {
      "cell_type": "code",
      "metadata": {
        "id": "egm3zyAMx_hm",
        "colab_type": "code",
        "colab": {
          "base_uri": "https://localhost:8080/",
          "height": 68
        },
        "outputId": "06354e1a-15d1-4814-eda3-21a9c6599742"
      },
      "source": [
        "# match dignosed\n",
        "matched_diagnosed_list = match_keywords(df_desc_event['description'], ['diagnosis', 'diagnosed'])\n",
        "df['Diagnosed'] = matched_diagnosed_list\n",
        "df['Diagnosed'].value_counts()"
      ],
      "execution_count": 21,
      "outputs": [
        {
          "output_type": "execute_result",
          "data": {
            "text/plain": [
              "0    8178\n",
              "1    1710\n",
              "Name: Diagnosed, dtype: int64"
            ]
          },
          "metadata": {
            "tags": []
          },
          "execution_count": 21
        }
      ]
    },
    {
      "cell_type": "markdown",
      "metadata": {
        "id": "fmokUox54s8_",
        "colab_type": "text"
      },
      "source": [
        "# Drop unnecessary columns"
      ]
    },
    {
      "cell_type": "code",
      "metadata": {
        "id": "Q6O9NLGl1UnC",
        "colab_type": "code",
        "colab": {
          "base_uri": "https://localhost:8080/",
          "height": 343
        },
        "outputId": "9543984e-4f6b-4129-eeaa-56bfd166793b"
      },
      "source": [
        "df.drop(columns=['Description', 'Event'], axis=1, inplace=True)\n",
        "df.head()"
      ],
      "execution_count": 22,
      "outputs": [
        {
          "output_type": "execute_result",
          "data": {
            "text/html": [
              "<div>\n",
              "<style scoped>\n",
              "    .dataframe tbody tr th:only-of-type {\n",
              "        vertical-align: middle;\n",
              "    }\n",
              "\n",
              "    .dataframe tbody tr th {\n",
              "        vertical-align: top;\n",
              "    }\n",
              "\n",
              "    .dataframe thead th {\n",
              "        text-align: right;\n",
              "    }\n",
              "</style>\n",
              "<table border=\"1\" class=\"dataframe\">\n",
              "  <thead>\n",
              "    <tr style=\"text-align: right;\">\n",
              "      <th></th>\n",
              "      <th>Age</th>\n",
              "      <th>Gender</th>\n",
              "      <th>Case Announcement Province</th>\n",
              "      <th>HasFever</th>\n",
              "      <th>HasCough</th>\n",
              "      <th>HasPneumonia</th>\n",
              "      <th>HasLungProblem</th>\n",
              "      <th>HasRunnyNose</th>\n",
              "      <th>HasMusclePainProblem</th>\n",
              "      <th>HasDiarrhea</th>\n",
              "      <th>HasTravelHistory</th>\n",
              "      <th>Isolation</th>\n",
              "      <th>Confirmed</th>\n",
              "      <th>Diagnosed</th>\n",
              "    </tr>\n",
              "  </thead>\n",
              "  <tbody>\n",
              "    <tr>\n",
              "      <th>0</th>\n",
              "      <td>58</td>\n",
              "      <td>female</td>\n",
              "      <td>Sichuan Province</td>\n",
              "      <td>0</td>\n",
              "      <td>0</td>\n",
              "      <td>0</td>\n",
              "      <td>0</td>\n",
              "      <td>0</td>\n",
              "      <td>0</td>\n",
              "      <td>0</td>\n",
              "      <td>1</td>\n",
              "      <td>0</td>\n",
              "      <td>0</td>\n",
              "      <td>0</td>\n",
              "    </tr>\n",
              "    <tr>\n",
              "      <th>1</th>\n",
              "      <td>58</td>\n",
              "      <td>female</td>\n",
              "      <td>Sichuan Province</td>\n",
              "      <td>0</td>\n",
              "      <td>0</td>\n",
              "      <td>0</td>\n",
              "      <td>0</td>\n",
              "      <td>0</td>\n",
              "      <td>0</td>\n",
              "      <td>0</td>\n",
              "      <td>1</td>\n",
              "      <td>0</td>\n",
              "      <td>0</td>\n",
              "      <td>0</td>\n",
              "    </tr>\n",
              "    <tr>\n",
              "      <th>2</th>\n",
              "      <td>58</td>\n",
              "      <td>female</td>\n",
              "      <td>Sichuan Province</td>\n",
              "      <td>0</td>\n",
              "      <td>0</td>\n",
              "      <td>0</td>\n",
              "      <td>0</td>\n",
              "      <td>0</td>\n",
              "      <td>0</td>\n",
              "      <td>0</td>\n",
              "      <td>0</td>\n",
              "      <td>0</td>\n",
              "      <td>0</td>\n",
              "      <td>0</td>\n",
              "    </tr>\n",
              "    <tr>\n",
              "      <th>3</th>\n",
              "      <td>58</td>\n",
              "      <td>female</td>\n",
              "      <td>Sichuan Province</td>\n",
              "      <td>0</td>\n",
              "      <td>0</td>\n",
              "      <td>0</td>\n",
              "      <td>0</td>\n",
              "      <td>0</td>\n",
              "      <td>0</td>\n",
              "      <td>0</td>\n",
              "      <td>0</td>\n",
              "      <td>1</td>\n",
              "      <td>1</td>\n",
              "      <td>0</td>\n",
              "    </tr>\n",
              "    <tr>\n",
              "      <th>4</th>\n",
              "      <td>51</td>\n",
              "      <td>female</td>\n",
              "      <td>Sichuan Province</td>\n",
              "      <td>0</td>\n",
              "      <td>0</td>\n",
              "      <td>0</td>\n",
              "      <td>0</td>\n",
              "      <td>0</td>\n",
              "      <td>0</td>\n",
              "      <td>0</td>\n",
              "      <td>0</td>\n",
              "      <td>0</td>\n",
              "      <td>0</td>\n",
              "      <td>0</td>\n",
              "    </tr>\n",
              "  </tbody>\n",
              "</table>\n",
              "</div>"
            ],
            "text/plain": [
              "   Age  Gender Case Announcement Province  ...  Isolation  Confirmed  Diagnosed\n",
              "0   58  female           Sichuan Province  ...          0          0          0\n",
              "1   58  female           Sichuan Province  ...          0          0          0\n",
              "2   58  female           Sichuan Province  ...          0          0          0\n",
              "3   58  female           Sichuan Province  ...          1          1          0\n",
              "4   51  female           Sichuan Province  ...          0          0          0\n",
              "\n",
              "[5 rows x 14 columns]"
            ]
          },
          "metadata": {
            "tags": []
          },
          "execution_count": 22
        }
      ]
    },
    {
      "cell_type": "code",
      "metadata": {
        "id": "XkGBdD6M5Z_q",
        "colab_type": "code",
        "colab": {
          "base_uri": "https://localhost:8080/",
          "height": 272
        },
        "outputId": "06086dcf-a623-49cf-f0af-b35b0074e39b"
      },
      "source": [
        "df.dtypes"
      ],
      "execution_count": 24,
      "outputs": [
        {
          "output_type": "execute_result",
          "data": {
            "text/plain": [
              "Age                            int64\n",
              "Gender                        object\n",
              "Case Announcement Province    object\n",
              "HasFever                       int64\n",
              "HasCough                       int64\n",
              "HasPneumonia                   int64\n",
              "HasLungProblem                 int64\n",
              "HasRunnyNose                   int64\n",
              "HasMusclePainProblem           int64\n",
              "HasDiarrhea                    int64\n",
              "HasTravelHistory               int64\n",
              "Isolation                      int64\n",
              "Confirmed                      int64\n",
              "Diagnosed                      int64\n",
              "dtype: object"
            ]
          },
          "metadata": {
            "tags": []
          },
          "execution_count": 24
        }
      ]
    },
    {
      "cell_type": "code",
      "metadata": {
        "id": "tkMumicK49xJ",
        "colab_type": "code",
        "colab": {
          "base_uri": "https://localhost:8080/",
          "height": 17
        },
        "outputId": "1d18237e-1884-47ed-eeb9-6e78622683e5"
      },
      "source": [
        "from google.colab import files\n",
        "\n",
        "df.to_csv('preprocessed.csv')\n",
        "files.download('preprocessed.csv')"
      ],
      "execution_count": 23,
      "outputs": [
        {
          "output_type": "display_data",
          "data": {
            "application/javascript": [
              "\n",
              "    async function download(id, filename, size) {\n",
              "      if (!google.colab.kernel.accessAllowed) {\n",
              "        return;\n",
              "      }\n",
              "      const div = document.createElement('div');\n",
              "      const label = document.createElement('label');\n",
              "      label.textContent = `Downloading \"${filename}\": `;\n",
              "      div.appendChild(label);\n",
              "      const progress = document.createElement('progress');\n",
              "      progress.max = size;\n",
              "      div.appendChild(progress);\n",
              "      document.body.appendChild(div);\n",
              "\n",
              "      const buffers = [];\n",
              "      let downloaded = 0;\n",
              "\n",
              "      const channel = await google.colab.kernel.comms.open(id);\n",
              "      // Send a message to notify the kernel that we're ready.\n",
              "      channel.send({})\n",
              "\n",
              "      for await (const message of channel.messages) {\n",
              "        // Send a message to notify the kernel that we're ready.\n",
              "        channel.send({})\n",
              "        if (message.buffers) {\n",
              "          for (const buffer of message.buffers) {\n",
              "            buffers.push(buffer);\n",
              "            downloaded += buffer.byteLength;\n",
              "            progress.value = downloaded;\n",
              "          }\n",
              "        }\n",
              "      }\n",
              "      const blob = new Blob(buffers, {type: 'application/binary'});\n",
              "      const a = document.createElement('a');\n",
              "      a.href = window.URL.createObjectURL(blob);\n",
              "      a.download = filename;\n",
              "      div.appendChild(a);\n",
              "      a.click();\n",
              "      div.remove();\n",
              "    }\n",
              "  "
            ],
            "text/plain": [
              "<IPython.core.display.Javascript object>"
            ]
          },
          "metadata": {
            "tags": []
          }
        },
        {
          "output_type": "display_data",
          "data": {
            "application/javascript": [
              "download(\"download_65c92932-6b8c-4f71-a8c4-d3cad92ad2e0\", \"preprocessed.csv\", 495269)"
            ],
            "text/plain": [
              "<IPython.core.display.Javascript object>"
            ]
          },
          "metadata": {
            "tags": []
          }
        }
      ]
    },
    {
      "cell_type": "code",
      "metadata": {
        "id": "6fGIqeSJ5M1S",
        "colab_type": "code",
        "colab": {}
      },
      "source": [
        ""
      ],
      "execution_count": null,
      "outputs": []
    }
  ]
}