{
  "nbformat": 4,
  "nbformat_minor": 0,
  "metadata": {
    "colab": {
      "name": "China-COVID-Analysis-Wrangling.ipynb",
      "provenance": [],
      "collapsed_sections": []
    },
    "kernelspec": {
      "name": "python3",
      "display_name": "Python 3"
    }
  },
  "cells": [
    {
      "cell_type": "markdown",
      "metadata": {
        "id": "qcqPQnUVfx_S",
        "colab_type": "text"
      },
      "source": [
        "# Data acquisition\n",
        "\n",
        "In this section, we will be using pandas to read the dataset in csv file format by using it's function read_csv() and we will be checking some properties of our dataframe."
      ]
    },
    {
      "cell_type": "code",
      "metadata": {
        "id": "76NNWTmJfSgY",
        "colab_type": "code",
        "colab": {}
      },
      "source": [
        "import pandas as pd\n",
        "import numpy as np"
      ],
      "execution_count": null,
      "outputs": []
    },
    {
      "cell_type": "code",
      "metadata": {
        "id": "pK9RoPffgK82",
        "colab_type": "code",
        "colab": {}
      },
      "source": [
        "# raw csv file collected from GitHub : @BDBC-KG-NLP/COVID-19-tracker\n",
        "chinese_province_wise_data = {\n",
        "    'sichuan'  : 'https://bit.ly/3fOW1BM',\n",
        "    'anhui'    : 'https://bit.ly/2A7O2Ra',\n",
        "    'shandong' : 'https://bit.ly/3g1Fo5J',\n",
        "    'shanxi'   : 'https://bit.ly/3fWyCOJ',\n",
        "    'jiangsu'  : 'https://bit.ly/2BHdCgk',\n",
        "    'henan'    : 'https://bit.ly/2BDOhng',\n",
        "    'zhejiang' : 'https://bit.ly/2NGddNX',\n",
        "    'hainan'   : 'https://bit.ly/382c7oX',\n",
        "    'hunan'    : 'https://bit.ly/31cDHyt',\n",
        "    'guizhou'  : 'https://bit.ly/2Zn6T3l',\n",
        "    'chongqing': 'https://bit.ly/2YwmvSy'\n",
        "}\n",
        "\n",
        "# list of provinces parsing from dict.keys()\n",
        "provinces = chinese_province_wise_data.keys()"
      ],
      "execution_count": null,
      "outputs": []
    },
    {
      "cell_type": "code",
      "metadata": {
        "id": "VtUHHK3mq00V",
        "colab_type": "code",
        "colab": {}
      },
      "source": [
        "# list to collect dataframes from each dataset\n",
        "list_of_frames = []\n",
        "\n",
        "# iterate and append frame in list_of_frames\n",
        "for each_province in provinces:\n",
        "  frame = pd.read_csv(chinese_province_wise_data[each_province], index_col=None, header=None)\n",
        "  list_of_frames.append(frame)\n",
        "\n",
        "# df : completely merged frame\n",
        "df = pd.concat(list_of_frames, axis=0, ignore_index=True)"
      ],
      "execution_count": null,
      "outputs": []
    },
    {
      "cell_type": "code",
      "metadata": {
        "id": "PWxj3D2btBtY",
        "colab_type": "code",
        "colab": {
          "base_uri": "https://localhost:8080/",
          "height": 332
        },
        "outputId": "3d15bf0d-932d-45d5-8dd8-f3921f0ce939"
      },
      "source": [
        "# refactoring index bugs\n",
        "df.drop(df.columns[len(df.columns)-1], axis=1, inplace=True)\n",
        "df.drop(df.index[[0]], inplace=True)\n",
        "\n",
        "# refactor row index\n",
        "df.reset_index(drop=True, inplace=True)\n",
        "\n",
        "# custom header\n",
        "headers = ['Gender', 'Age', 'Work', 'Diagnosis Time', 'Hubei Contact', 'Case Number', 'Permanent Residence', 'Hubei Contact Description', 'Case Announcement Province', 'Case Announcement City', 'Time', 'Route Location', 'Event', 'Description', 'Transportation', 'Track Number', 'Number Of Tracks']\n",
        "\n",
        "# set custom header to dataframe\n",
        "df.columns = headers\n",
        "df.head(3)"
      ],
      "execution_count": null,
      "outputs": [
        {
          "output_type": "execute_result",
          "data": {
            "text/html": [
              "<div>\n",
              "<style scoped>\n",
              "    .dataframe tbody tr th:only-of-type {\n",
              "        vertical-align: middle;\n",
              "    }\n",
              "\n",
              "    .dataframe tbody tr th {\n",
              "        vertical-align: top;\n",
              "    }\n",
              "\n",
              "    .dataframe thead th {\n",
              "        text-align: right;\n",
              "    }\n",
              "</style>\n",
              "<table border=\"1\" class=\"dataframe\">\n",
              "  <thead>\n",
              "    <tr style=\"text-align: right;\">\n",
              "      <th></th>\n",
              "      <th>Gender</th>\n",
              "      <th>Age</th>\n",
              "      <th>Work</th>\n",
              "      <th>Diagnosis Time</th>\n",
              "      <th>Hubei Contact</th>\n",
              "      <th>Case Number</th>\n",
              "      <th>Permanent Residence</th>\n",
              "      <th>Hubei Contact Description</th>\n",
              "      <th>Case Announcement Province</th>\n",
              "      <th>Case Announcement City</th>\n",
              "      <th>Time</th>\n",
              "      <th>Route Location</th>\n",
              "      <th>Event</th>\n",
              "      <th>Description</th>\n",
              "      <th>Transportation</th>\n",
              "      <th>Track Number</th>\n",
              "      <th>Number Of Tracks</th>\n",
              "    </tr>\n",
              "  </thead>\n",
              "  <tbody>\n",
              "    <tr>\n",
              "      <th>0</th>\n",
              "      <td>女</td>\n",
              "      <td>58</td>\n",
              "      <td>NaN</td>\n",
              "      <td>NaN</td>\n",
              "      <td>未知</td>\n",
              "      <td>NaN</td>\n",
              "      <td>NaN</td>\n",
              "      <td>NaN</td>\n",
              "      <td>四川省</td>\n",
              "      <td>泸州市</td>\n",
              "      <td>1月26日</td>\n",
              "      <td>石河中心卫生院(107.328107,30.870779)</td>\n",
              "      <td>探望病人</td>\n",
              "      <td>1月26日, 10：00，到石河中心卫生院探望病人</td>\n",
              "      <td>NaN</td>\n",
              "      <td>轨迹1</td>\n",
              "      <td>4</td>\n",
              "    </tr>\n",
              "    <tr>\n",
              "      <th>1</th>\n",
              "      <td>女</td>\n",
              "      <td>58</td>\n",
              "      <td>NaN</td>\n",
              "      <td>NaN</td>\n",
              "      <td>未知</td>\n",
              "      <td>NaN</td>\n",
              "      <td>NaN</td>\n",
              "      <td>NaN</td>\n",
              "      <td>四川省</td>\n",
              "      <td>泸州市</td>\n",
              "      <td>1月27日</td>\n",
              "      <td>石河镇宝华村(107.327606,30.895882)</td>\n",
              "      <td>看望病危父亲</td>\n",
              "      <td>1月27日, 16：00，到石河镇宝华村3组看望病危父亲</td>\n",
              "      <td>NaN</td>\n",
              "      <td>轨迹2</td>\n",
              "      <td>4</td>\n",
              "    </tr>\n",
              "    <tr>\n",
              "      <th>2</th>\n",
              "      <td>女</td>\n",
              "      <td>58</td>\n",
              "      <td>NaN</td>\n",
              "      <td>NaN</td>\n",
              "      <td>未知</td>\n",
              "      <td>NaN</td>\n",
              "      <td>NaN</td>\n",
              "      <td>NaN</td>\n",
              "      <td>四川省</td>\n",
              "      <td>泸州市</td>\n",
              "      <td>1月31日</td>\n",
              "      <td>石河镇宝华村(107.327606,30.895882)</td>\n",
              "      <td>办丧事</td>\n",
              "      <td>1月31日-2月5日, 在石河镇宝华村办丧事</td>\n",
              "      <td>NaN</td>\n",
              "      <td>轨迹3</td>\n",
              "      <td>4</td>\n",
              "    </tr>\n",
              "  </tbody>\n",
              "</table>\n",
              "</div>"
            ],
            "text/plain": [
              "  Gender Age Work  ... Transportation Track Number Number Of Tracks\n",
              "0      女  58  NaN  ...            NaN          轨迹1                4\n",
              "1      女  58  NaN  ...            NaN          轨迹2                4\n",
              "2      女  58  NaN  ...            NaN          轨迹3                4\n",
              "\n",
              "[3 rows x 17 columns]"
            ]
          },
          "metadata": {
            "tags": []
          },
          "execution_count": 4
        }
      ]
    },
    {
      "cell_type": "code",
      "metadata": {
        "id": "mlMDkPPPwFwO",
        "colab_type": "code",
        "colab": {
          "base_uri": "https://localhost:8080/",
          "height": 34
        },
        "outputId": "47a5610e-4918-449f-af98-1de7b396b009"
      },
      "source": [
        "# check the shape of \n",
        "df.shape"
      ],
      "execution_count": null,
      "outputs": [
        {
          "output_type": "execute_result",
          "data": {
            "text/plain": [
              "(10790, 17)"
            ]
          },
          "metadata": {
            "tags": []
          },
          "execution_count": 5
        }
      ]
    },
    {
      "cell_type": "markdown",
      "metadata": {
        "id": "Zo8d0qJF0n91",
        "colab_type": "text"
      },
      "source": [
        "# Data wrangling\n",
        "\n",
        "In this section, we will be wrangling our data frame for the purpose of converting data from the initial format to a format that may be better for analysis. Sometimes, data-wrangling is referred to as **'data-preprocessing'**. In the beginning of processing, we will be identifying columns needed to be translated from **Chinese to English**.\n",
        "\n",
        "Before, translating we need to drop some columns that are mostly NaN.\n",
        "\n"
      ]
    },
    {
      "cell_type": "code",
      "metadata": {
        "id": "E2Mmm_wH0rF8",
        "colab_type": "code",
        "colab": {
          "base_uri": "https://localhost:8080/",
          "height": 323
        },
        "outputId": "530222a7-81dd-40e8-bd9a-bd6e84512b39"
      },
      "source": [
        "# find columns NaN percentage\n",
        "def check_nan() : \n",
        "  percent_nan = df.isnull().sum() * 100 / len(df)\n",
        "  missing_value_in_df = pd.DataFrame(\n",
        "      {\n",
        "          'percent_nan': round(percent_nan, 2)\n",
        "      }\n",
        "  )\n",
        "  print(missing_value_in_df)\n",
        "\n",
        "\n",
        "check_nan()"
      ],
      "execution_count": null,
      "outputs": [
        {
          "output_type": "stream",
          "text": [
            "                            percent_nan\n",
            "Gender                             0.00\n",
            "Age                                8.02\n",
            "Work                              96.60\n",
            "Diagnosis Time                    72.91\n",
            "Hubei Contact                      0.10\n",
            "Case Number                       99.66\n",
            "Permanent Residence               18.84\n",
            "Hubei Contact Description         85.39\n",
            "Case Announcement Province         0.28\n",
            "Case Announcement City             0.77\n",
            "Time                               0.07\n",
            "Route Location                    34.25\n",
            "Event                             45.76\n",
            "Description                        0.01\n",
            "Transportation                    69.94\n",
            "Track Number                       0.00\n",
            "Number Of Tracks                   0.00\n"
          ],
          "name": "stdout"
        }
      ]
    },
    {
      "cell_type": "markdown",
      "metadata": {
        "id": "yyELBIR898UP",
        "colab_type": "text"
      },
      "source": [
        "### Drop columns\n",
        "\n",
        "By having an insight over NaN percentage on columns, we can see there are several columns that are mostly NaN. These columns are needed to be removed. But the question is how much NaN should we consider? According to some standard methodologies, columns with more than 50% NaN are useless. So, regarding the standard we will be dropping columns with NaN percentage more than 50%. Additionally, we will be removing data that are extremely not necessary."
      ]
    },
    {
      "cell_type": "code",
      "metadata": {
        "id": "6_AcqSbE83lz",
        "colab_type": "code",
        "colab": {
          "base_uri": "https://localhost:8080/",
          "height": 119
        },
        "outputId": "8af0fa7d-8bb8-4704-8870-2b8066c3bd7d"
      },
      "source": [
        "columns_to_drop = ['Work', 'Diagnosis Time', 'Permanent Residence', 'Hubei Contact', 'Case Number', 'Case Announcement City', 'Time', 'Hubei Contact Description', 'Transportation', 'Track Number', 'Number Of Tracks', 'Route Location']\n",
        "\n",
        "'''\n",
        "  axis = 1 : for dropping column\n",
        "  inplace = True : upgrading the dataframe inline\n",
        "'''\n",
        "df.drop(columns=columns_to_drop, axis=1, inplace=True)\n",
        "\n",
        "# find columns NaN percentage\n",
        "check_nan()"
      ],
      "execution_count": null,
      "outputs": [
        {
          "output_type": "stream",
          "text": [
            "                            percent_nan\n",
            "Gender                             0.00\n",
            "Age                                8.02\n",
            "Case Announcement Province         0.28\n",
            "Event                             45.76\n",
            "Description                        0.01\n"
          ],
          "name": "stdout"
        }
      ]
    },
    {
      "cell_type": "markdown",
      "metadata": {
        "id": "T-Ck8YIZ_-w0",
        "colab_type": "text"
      },
      "source": [
        "### Drop rows initially\n",
        "\n",
        "We have so much rows in our dataframe. That's cool unless we think of our translator API performance which we're gonna use next. Translating more than 10K rows in a dataframe might take **10-30 minutes**. Sad, but true 🥺. We cannot define all the important features of our dataset before translation but we can initally detect some of the features that are must for our analysis. \n",
        "\n",
        "Initially, Age, Permanent Resident, Case Announcement Province, Announcement City and Time are so important feature that must not be NaN. So, we can think of dropping these."
      ]
    },
    {
      "cell_type": "code",
      "metadata": {
        "id": "vX6eE1uK_rdG",
        "colab_type": "code",
        "colab": {}
      },
      "source": [
        "drop_nan_rows = ['Age', 'Case Announcement Province']\n",
        "df.dropna(subset=drop_nan_rows, axis=0, inplace=True)\n",
        "\n",
        "# reset index, because we droped two rows\n",
        "df.reset_index(drop=True, inplace=True)"
      ],
      "execution_count": null,
      "outputs": []
    },
    {
      "cell_type": "code",
      "metadata": {
        "id": "Cw4cKwPSDYYn",
        "colab_type": "code",
        "colab": {
          "base_uri": "https://localhost:8080/",
          "height": 119
        },
        "outputId": "01b6e38e-6cfe-46c2-b566-6b7ebbea15d5"
      },
      "source": [
        "# find columns NaN percentage\n",
        "check_nan()"
      ],
      "execution_count": null,
      "outputs": [
        {
          "output_type": "stream",
          "text": [
            "                            percent_nan\n",
            "Gender                             0.00\n",
            "Age                                0.00\n",
            "Case Announcement Province         0.00\n",
            "Event                             45.72\n",
            "Description                        0.00\n"
          ],
          "name": "stdout"
        }
      ]
    },
    {
      "cell_type": "code",
      "metadata": {
        "id": "U7PSrbhdGFOY",
        "colab_type": "code",
        "colab": {
          "base_uri": "https://localhost:8080/",
          "height": 34
        },
        "outputId": "39c54e8e-50fc-4fc5-87c1-89adfabbba8e"
      },
      "source": [
        "df.shape"
      ],
      "execution_count": null,
      "outputs": [
        {
          "output_type": "execute_result",
          "data": {
            "text/plain": [
              "(9898, 5)"
            ]
          },
          "metadata": {
            "tags": []
          },
          "execution_count": 10
        }
      ]
    },
    {
      "cell_type": "markdown",
      "metadata": {
        "id": "ykq72M8FykLR",
        "colab_type": "text"
      },
      "source": [
        "### Correcting data type"
      ]
    },
    {
      "cell_type": "code",
      "metadata": {
        "id": "9833N22jvNBD",
        "colab_type": "code",
        "colab": {
          "base_uri": "https://localhost:8080/",
          "height": 170
        },
        "outputId": "9ca9ad8f-2af3-46f7-a0de-1f83079ddfb7"
      },
      "source": [
        "df['Age'].unique()"
      ],
      "execution_count": null,
      "outputs": [
        {
          "output_type": "execute_result",
          "data": {
            "text/plain": [
              "array(['58', '51', '50', '23', '28', '70', '54', '27', '18', '53', '43',\n",
              "       '46', '37', '56', '10', '79', '57', '61', '39', '36', '41', '76',\n",
              "       '20', '66', '64', '30', '65', '77', '6', '71', '68', '88', '49',\n",
              "       '85', '45', '21', '55', '62', '48', '63', '47', '24', '73', '72',\n",
              "       '3', '12', '52', '22', '25', '19', '29', '4', '33', '38', '35',\n",
              "       '78', '34', '31', '26', '75', '7', '42', '32', '44', '81', '80',\n",
              "       '17', '13', '67', '60', '9', '59', '69', '74', '年龄', '40', '16',\n",
              "       '11', '2', '90', '14', '15', '84', '89', '1', '5', '87', '86',\n",
              "       '83', '93', '96', '82', '8', '91'], dtype=object)"
            ]
          },
          "metadata": {
            "tags": []
          },
          "execution_count": 11
        }
      ]
    },
    {
      "cell_type": "code",
      "metadata": {
        "id": "utGPgRP0vRs-",
        "colab_type": "code",
        "colab": {}
      },
      "source": [
        "# Replacing chinese word with average age = 44.75 => 45\n",
        "df[\"Age\"].replace('年龄', '45', inplace=True)"
      ],
      "execution_count": null,
      "outputs": []
    },
    {
      "cell_type": "code",
      "metadata": {
        "id": "aJZOEGiByPEM",
        "colab_type": "code",
        "colab": {}
      },
      "source": [
        "df[[\"Age\"]] = df[[\"Age\"]].astype(\"int\")"
      ],
      "execution_count": null,
      "outputs": []
    },
    {
      "cell_type": "code",
      "metadata": {
        "id": "8arFpHLlMHcr",
        "colab_type": "code",
        "colab": {
          "base_uri": "https://localhost:8080/",
          "height": 119
        },
        "outputId": "fab38ce9-78ef-4155-84fa-af8e82d14d4c"
      },
      "source": [
        "# check NaN and replace with custom string\n",
        "# because translation api doesn't take NaN\n",
        "df['Event'].replace(np.nan, '', inplace=True)\n",
        "check_nan()"
      ],
      "execution_count": null,
      "outputs": [
        {
          "output_type": "stream",
          "text": [
            "                            percent_nan\n",
            "Gender                              0.0\n",
            "Age                                 0.0\n",
            "Case Announcement Province          0.0\n",
            "Event                               0.0\n",
            "Description                         0.0\n"
          ],
          "name": "stdout"
        }
      ]
    },
    {
      "cell_type": "code",
      "metadata": {
        "id": "SpiCRiJ1KwbG",
        "colab_type": "code",
        "colab": {
          "base_uri": "https://localhost:8080/",
          "height": 204
        },
        "outputId": "7127c871-cc45-47ce-de93-40a04de6d9a7"
      },
      "source": [
        "df.head()"
      ],
      "execution_count": null,
      "outputs": [
        {
          "output_type": "execute_result",
          "data": {
            "text/html": [
              "<div>\n",
              "<style scoped>\n",
              "    .dataframe tbody tr th:only-of-type {\n",
              "        vertical-align: middle;\n",
              "    }\n",
              "\n",
              "    .dataframe tbody tr th {\n",
              "        vertical-align: top;\n",
              "    }\n",
              "\n",
              "    .dataframe thead th {\n",
              "        text-align: right;\n",
              "    }\n",
              "</style>\n",
              "<table border=\"1\" class=\"dataframe\">\n",
              "  <thead>\n",
              "    <tr style=\"text-align: right;\">\n",
              "      <th></th>\n",
              "      <th>Gender</th>\n",
              "      <th>Age</th>\n",
              "      <th>Case Announcement Province</th>\n",
              "      <th>Event</th>\n",
              "      <th>Description</th>\n",
              "    </tr>\n",
              "  </thead>\n",
              "  <tbody>\n",
              "    <tr>\n",
              "      <th>0</th>\n",
              "      <td>女</td>\n",
              "      <td>58</td>\n",
              "      <td>四川省</td>\n",
              "      <td>探望病人</td>\n",
              "      <td>1月26日, 10：00，到石河中心卫生院探望病人</td>\n",
              "    </tr>\n",
              "    <tr>\n",
              "      <th>1</th>\n",
              "      <td>女</td>\n",
              "      <td>58</td>\n",
              "      <td>四川省</td>\n",
              "      <td>看望病危父亲</td>\n",
              "      <td>1月27日, 16：00，到石河镇宝华村3组看望病危父亲</td>\n",
              "    </tr>\n",
              "    <tr>\n",
              "      <th>2</th>\n",
              "      <td>女</td>\n",
              "      <td>58</td>\n",
              "      <td>四川省</td>\n",
              "      <td>办丧事</td>\n",
              "      <td>1月31日-2月5日, 在石河镇宝华村办丧事</td>\n",
              "    </tr>\n",
              "    <tr>\n",
              "      <th>3</th>\n",
              "      <td>女</td>\n",
              "      <td>58</td>\n",
              "      <td>四川省</td>\n",
              "      <td>被送至集中医学观察点隔离</td>\n",
              "      <td>2月9日, 20：00，因与大竹县第4例确诊病例冯某密接者被送至集中医学观察点隔离</td>\n",
              "    </tr>\n",
              "    <tr>\n",
              "      <th>4</th>\n",
              "      <td>女</td>\n",
              "      <td>51</td>\n",
              "      <td>四川省</td>\n",
              "      <td>回家</td>\n",
              "      <td>1月19日, 雷某英独自从武汉返回泸县牛滩镇寿尊村10社家中</td>\n",
              "    </tr>\n",
              "  </tbody>\n",
              "</table>\n",
              "</div>"
            ],
            "text/plain": [
              "  Gender  Age  ...         Event                                Description\n",
              "0      女   58  ...          探望病人                  1月26日, 10：00，到石河中心卫生院探望病人\n",
              "1      女   58  ...        看望病危父亲               1月27日, 16：00，到石河镇宝华村3组看望病危父亲\n",
              "2      女   58  ...           办丧事                     1月31日-2月5日, 在石河镇宝华村办丧事\n",
              "3      女   58  ...  被送至集中医学观察点隔离  2月9日, 20：00，因与大竹县第4例确诊病例冯某密接者被送至集中医学观察点隔离\n",
              "4      女   51  ...            回家             1月19日, 雷某英独自从武汉返回泸县牛滩镇寿尊村10社家中\n",
              "\n",
              "[5 rows x 5 columns]"
            ]
          },
          "metadata": {
            "tags": []
          },
          "execution_count": 15
        }
      ]
    },
    {
      "cell_type": "code",
      "metadata": {
        "id": "wtY5nuoZMO5-",
        "colab_type": "code",
        "colab": {
          "base_uri": "https://localhost:8080/",
          "height": 142
        },
        "outputId": "0180075f-ba42-470d-b0d0-da69e71571e8"
      },
      "source": [
        "# swap first two columns position for iloc translation\n",
        "c = df.columns\n",
        "df[[c[0], c[1]]] = df[[c[1], c[0]]]\n",
        "df.head(3)"
      ],
      "execution_count": null,
      "outputs": [
        {
          "output_type": "execute_result",
          "data": {
            "text/html": [
              "<div>\n",
              "<style scoped>\n",
              "    .dataframe tbody tr th:only-of-type {\n",
              "        vertical-align: middle;\n",
              "    }\n",
              "\n",
              "    .dataframe tbody tr th {\n",
              "        vertical-align: top;\n",
              "    }\n",
              "\n",
              "    .dataframe thead th {\n",
              "        text-align: right;\n",
              "    }\n",
              "</style>\n",
              "<table border=\"1\" class=\"dataframe\">\n",
              "  <thead>\n",
              "    <tr style=\"text-align: right;\">\n",
              "      <th></th>\n",
              "      <th>Gender</th>\n",
              "      <th>Age</th>\n",
              "      <th>Case Announcement Province</th>\n",
              "      <th>Event</th>\n",
              "      <th>Description</th>\n",
              "    </tr>\n",
              "  </thead>\n",
              "  <tbody>\n",
              "    <tr>\n",
              "      <th>0</th>\n",
              "      <td>58</td>\n",
              "      <td>女</td>\n",
              "      <td>四川省</td>\n",
              "      <td>探望病人</td>\n",
              "      <td>1月26日, 10：00，到石河中心卫生院探望病人</td>\n",
              "    </tr>\n",
              "    <tr>\n",
              "      <th>1</th>\n",
              "      <td>58</td>\n",
              "      <td>女</td>\n",
              "      <td>四川省</td>\n",
              "      <td>看望病危父亲</td>\n",
              "      <td>1月27日, 16：00，到石河镇宝华村3组看望病危父亲</td>\n",
              "    </tr>\n",
              "    <tr>\n",
              "      <th>2</th>\n",
              "      <td>58</td>\n",
              "      <td>女</td>\n",
              "      <td>四川省</td>\n",
              "      <td>办丧事</td>\n",
              "      <td>1月31日-2月5日, 在石河镇宝华村办丧事</td>\n",
              "    </tr>\n",
              "  </tbody>\n",
              "</table>\n",
              "</div>"
            ],
            "text/plain": [
              "   Gender Age Case Announcement Province   Event                   Description\n",
              "0      58   女                        四川省    探望病人     1月26日, 10：00，到石河中心卫生院探望病人\n",
              "1      58   女                        四川省  看望病危父亲  1月27日, 16：00，到石河镇宝华村3组看望病危父亲\n",
              "2      58   女                        四川省     办丧事        1月31日-2月5日, 在石河镇宝华村办丧事"
            ]
          },
          "metadata": {
            "tags": []
          },
          "execution_count": 16
        }
      ]
    },
    {
      "cell_type": "code",
      "metadata": {
        "id": "-AfDmjHzMTON",
        "colab_type": "code",
        "colab": {
          "base_uri": "https://localhost:8080/",
          "height": 142
        },
        "outputId": "c9729d20-dc6a-4451-8f13-1d426ba60941"
      },
      "source": [
        "# reset column header\n",
        "df = df.rename(columns={'Gender': 'Age', 'Age': 'Gender'})\n",
        "df.head(3)"
      ],
      "execution_count": null,
      "outputs": [
        {
          "output_type": "execute_result",
          "data": {
            "text/html": [
              "<div>\n",
              "<style scoped>\n",
              "    .dataframe tbody tr th:only-of-type {\n",
              "        vertical-align: middle;\n",
              "    }\n",
              "\n",
              "    .dataframe tbody tr th {\n",
              "        vertical-align: top;\n",
              "    }\n",
              "\n",
              "    .dataframe thead th {\n",
              "        text-align: right;\n",
              "    }\n",
              "</style>\n",
              "<table border=\"1\" class=\"dataframe\">\n",
              "  <thead>\n",
              "    <tr style=\"text-align: right;\">\n",
              "      <th></th>\n",
              "      <th>Age</th>\n",
              "      <th>Gender</th>\n",
              "      <th>Case Announcement Province</th>\n",
              "      <th>Event</th>\n",
              "      <th>Description</th>\n",
              "    </tr>\n",
              "  </thead>\n",
              "  <tbody>\n",
              "    <tr>\n",
              "      <th>0</th>\n",
              "      <td>58</td>\n",
              "      <td>女</td>\n",
              "      <td>四川省</td>\n",
              "      <td>探望病人</td>\n",
              "      <td>1月26日, 10：00，到石河中心卫生院探望病人</td>\n",
              "    </tr>\n",
              "    <tr>\n",
              "      <th>1</th>\n",
              "      <td>58</td>\n",
              "      <td>女</td>\n",
              "      <td>四川省</td>\n",
              "      <td>看望病危父亲</td>\n",
              "      <td>1月27日, 16：00，到石河镇宝华村3组看望病危父亲</td>\n",
              "    </tr>\n",
              "    <tr>\n",
              "      <th>2</th>\n",
              "      <td>58</td>\n",
              "      <td>女</td>\n",
              "      <td>四川省</td>\n",
              "      <td>办丧事</td>\n",
              "      <td>1月31日-2月5日, 在石河镇宝华村办丧事</td>\n",
              "    </tr>\n",
              "  </tbody>\n",
              "</table>\n",
              "</div>"
            ],
            "text/plain": [
              "   Age Gender Case Announcement Province   Event                   Description\n",
              "0   58      女                        四川省    探望病人     1月26日, 10：00，到石河中心卫生院探望病人\n",
              "1   58      女                        四川省  看望病危父亲  1月27日, 16：00，到石河镇宝华村3组看望病危父亲\n",
              "2   58      女                        四川省     办丧事        1月31日-2月5日, 在石河镇宝华村办丧事"
            ]
          },
          "metadata": {
            "tags": []
          },
          "execution_count": 17
        }
      ]
    },
    {
      "cell_type": "code",
      "metadata": {
        "id": "vv_BZCJLMXwT",
        "colab_type": "code",
        "colab": {
          "base_uri": "https://localhost:8080/",
          "height": 119
        },
        "outputId": "9eebad89-dc06-49d5-952b-d4d95f70fe5d"
      },
      "source": [
        "check_nan()"
      ],
      "execution_count": null,
      "outputs": [
        {
          "output_type": "stream",
          "text": [
            "                            percent_nan\n",
            "Age                                 0.0\n",
            "Gender                              0.0\n",
            "Case Announcement Province          0.0\n",
            "Event                               0.0\n",
            "Description                         0.0\n"
          ],
          "name": "stdout"
        }
      ]
    },
    {
      "cell_type": "code",
      "metadata": {
        "id": "J5CbLXXOLHfo",
        "colab_type": "code",
        "colab": {
          "base_uri": "https://localhost:8080/",
          "height": 34
        },
        "outputId": "14f3f3de-1c43-4862-f072-85e0fd7e4870"
      },
      "source": [
        "df.shape"
      ],
      "execution_count": null,
      "outputs": [
        {
          "output_type": "execute_result",
          "data": {
            "text/plain": [
              "(9898, 5)"
            ]
          },
          "metadata": {
            "tags": []
          },
          "execution_count": 19
        }
      ]
    },
    {
      "cell_type": "code",
      "metadata": {
        "id": "qJJpcuZz0ZCZ",
        "colab_type": "code",
        "colab": {
          "base_uri": "https://localhost:8080/",
          "height": 119
        },
        "outputId": "22031c84-67c1-4e96-a5f7-aee04e30d660"
      },
      "source": [
        "df.dtypes"
      ],
      "execution_count": null,
      "outputs": [
        {
          "output_type": "execute_result",
          "data": {
            "text/plain": [
              "Age                            int64\n",
              "Gender                        object\n",
              "Case Announcement Province    object\n",
              "Event                         object\n",
              "Description                   object\n",
              "dtype: object"
            ]
          },
          "metadata": {
            "tags": []
          },
          "execution_count": 20
        }
      ]
    },
    {
      "cell_type": "code",
      "metadata": {
        "id": "B1uZGAvVMRHp",
        "colab_type": "code",
        "colab": {
          "base_uri": "https://localhost:8080/",
          "height": 34
        },
        "outputId": "9df8943a-bdf6-466f-ea49-b8c0ccbd3c7f"
      },
      "source": [
        "# translate gender manually\n",
        "df['Gender'].unique()"
      ],
      "execution_count": null,
      "outputs": [
        {
          "output_type": "execute_result",
          "data": {
            "text/plain": [
              "array(['女', '男', '性别'], dtype=object)"
            ]
          },
          "metadata": {
            "tags": []
          },
          "execution_count": 21
        }
      ]
    },
    {
      "cell_type": "code",
      "metadata": {
        "id": "m50oilc2Mj3I",
        "colab_type": "code",
        "colab": {
          "base_uri": "https://localhost:8080/",
          "height": 34
        },
        "outputId": "838c20a1-4609-44c2-b337-4e9535bb81ae"
      },
      "source": [
        "# replace manually\n",
        "df['Gender'].replace({'女': 'female', '男': 'male'}, inplace=True)\n",
        "df['Gender'].unique()"
      ],
      "execution_count": null,
      "outputs": [
        {
          "output_type": "execute_result",
          "data": {
            "text/plain": [
              "array(['female', 'male', '性别'], dtype=object)"
            ]
          },
          "metadata": {
            "tags": []
          },
          "execution_count": 22
        }
      ]
    },
    {
      "cell_type": "code",
      "metadata": {
        "id": "-lEktqoKNHuC",
        "colab_type": "code",
        "colab": {
          "base_uri": "https://localhost:8080/",
          "height": 34
        },
        "outputId": "94b627e6-09d0-4311-9ae4-0e29f288f50b"
      },
      "source": [
        "# count invalid data\n",
        "df.Gender.str.count(\"性别\").sum()"
      ],
      "execution_count": null,
      "outputs": [
        {
          "output_type": "execute_result",
          "data": {
            "text/plain": [
              "10"
            ]
          },
          "metadata": {
            "tags": []
          },
          "execution_count": 23
        }
      ]
    },
    {
      "cell_type": "code",
      "metadata": {
        "id": "03KwblVcN3NW",
        "colab_type": "code",
        "colab": {
          "base_uri": "https://localhost:8080/",
          "height": 34
        },
        "outputId": "a133d060-76e7-457c-d3e0-24ea6f5982bc"
      },
      "source": [
        "# drop the rows containing this invalid words\n",
        "df = df[~df['Gender'].isin(['性别'])]\n",
        "df['Gender'].unique()"
      ],
      "execution_count": null,
      "outputs": [
        {
          "output_type": "execute_result",
          "data": {
            "text/plain": [
              "array(['female', 'male'], dtype=object)"
            ]
          },
          "metadata": {
            "tags": []
          },
          "execution_count": 24
        }
      ]
    },
    {
      "cell_type": "code",
      "metadata": {
        "id": "2bmaK-FrOK-4",
        "colab_type": "code",
        "colab": {
          "base_uri": "https://localhost:8080/",
          "height": 34
        },
        "outputId": "e002d5b2-22ae-44a9-de01-f61071851cb4"
      },
      "source": [
        "df.shape"
      ],
      "execution_count": null,
      "outputs": [
        {
          "output_type": "execute_result",
          "data": {
            "text/plain": [
              "(9888, 5)"
            ]
          },
          "metadata": {
            "tags": []
          },
          "execution_count": 25
        }
      ]
    },
    {
      "cell_type": "markdown",
      "metadata": {
        "id": "AX2-sK_r_Fsk",
        "colab_type": "text"
      },
      "source": [
        "# Data Translation\n",
        "In this section, we will be translating our data from Chinese to English. Except Age and Number of track, we need to translate every other columns."
      ]
    },
    {
      "cell_type": "code",
      "metadata": {
        "id": "fx3rDRfCOVeX",
        "colab_type": "code",
        "colab": {}
      },
      "source": [
        "! pip install googletrans"
      ],
      "execution_count": null,
      "outputs": []
    },
    {
      "cell_type": "code",
      "metadata": {
        "id": "hv5I1pM8_NQT",
        "colab_type": "code",
        "colab": {}
      },
      "source": [
        "# import the library\n",
        "import googletrans\n",
        "from googletrans import Translator"
      ],
      "execution_count": null,
      "outputs": []
    },
    {
      "cell_type": "code",
      "metadata": {
        "id": "2pqZyXTp_RWa",
        "colab_type": "code",
        "colab": {
          "base_uri": "https://localhost:8080/",
          "height": 68
        },
        "outputId": "6ceb9261-ae7d-4b50-ef9c-dbbc21277a47"
      },
      "source": [
        "# detect language\n",
        "translator = Translator()\n",
        "\n",
        "languages = translator.detect(['石河中心卫生院', 'English', 'বাংলা'])\n",
        "for lang in languages:\n",
        "    print(lang.lang, lang.confidence)"
      ],
      "execution_count": null,
      "outputs": [
        {
          "output_type": "stream",
          "text": [
            "zh-CN 1.0\n",
            "en 1.0\n",
            "bn 1.0\n"
          ],
          "name": "stdout"
        }
      ]
    },
    {
      "cell_type": "code",
      "metadata": {
        "id": "g91XnvcS_Ze5",
        "colab_type": "code",
        "colab": {
          "base_uri": "https://localhost:8080/",
          "height": 85
        },
        "outputId": "774e20db-eb56-4f16-c549-95d8d225476d"
      },
      "source": [
        "# copy dataframe for translation\n",
        "df_en = df.copy()\n",
        "df_en.iloc[:, 2:5].dtypes"
      ],
      "execution_count": null,
      "outputs": [
        {
          "output_type": "execute_result",
          "data": {
            "text/plain": [
              "Case Announcement Province    object\n",
              "Event                         object\n",
              "Description                   object\n",
              "dtype: object"
            ]
          },
          "metadata": {
            "tags": []
          },
          "execution_count": 29
        }
      ]
    },
    {
      "cell_type": "code",
      "metadata": {
        "id": "nexH1V4vGRUF",
        "colab_type": "code",
        "colab": {}
      },
      "source": [
        "# perform translation : skip first and last column\n",
        "translations = {}\n",
        "i = 0\n",
        "\n",
        "for column in df_en.iloc[:, 2:5].columns:\n",
        "    # unique elements of the column to avoid translating same thing multiple times\n",
        "    unique_elements = df_en[column].unique()\n",
        "    print(len(unique_elements))\n",
        "    for element in unique_elements:\n",
        "        # add translation to the dictionary\n",
        "        translations[element] = translator.translate(element).text\n",
        "        i = i + 1\n",
        "        print('t => {}'.format(i))\n",
        "\n",
        "\n",
        "\n",
        "# debug translation completion\n",
        "print('Done with translation')"
      ],
      "execution_count": null,
      "outputs": []
    },
    {
      "cell_type": "code",
      "metadata": {
        "id": "ujwbXD0ZP7AO",
        "colab_type": "code",
        "colab": {
          "base_uri": "https://localhost:8080/",
          "height": 34
        },
        "outputId": "4410c240-90e8-4ff3-8da9-9aa5d26bc73f"
      },
      "source": [
        "# check how many unique cells were translated\n",
        "len(translations)"
      ],
      "execution_count": null,
      "outputs": [
        {
          "output_type": "execute_result",
          "data": {
            "text/plain": [
              "8598"
            ]
          },
          "metadata": {
            "tags": []
          },
          "execution_count": 32
        }
      ]
    },
    {
      "cell_type": "code",
      "metadata": {
        "id": "pubUYokIY1rz",
        "colab_type": "code",
        "colab": {
          "base_uri": "https://localhost:8080/",
          "height": 204
        },
        "outputId": "9866323f-f88e-4022-b511-48fdeeb7144b"
      },
      "source": [
        "# modify all the terms of the data frame by using the previously created dictionary\n",
        "df_en.replace(translations, inplace = True)\n",
        "\n",
        "# check translation\n",
        "df_en.head()"
      ],
      "execution_count": null,
      "outputs": [
        {
          "output_type": "execute_result",
          "data": {
            "text/html": [
              "<div>\n",
              "<style scoped>\n",
              "    .dataframe tbody tr th:only-of-type {\n",
              "        vertical-align: middle;\n",
              "    }\n",
              "\n",
              "    .dataframe tbody tr th {\n",
              "        vertical-align: top;\n",
              "    }\n",
              "\n",
              "    .dataframe thead th {\n",
              "        text-align: right;\n",
              "    }\n",
              "</style>\n",
              "<table border=\"1\" class=\"dataframe\">\n",
              "  <thead>\n",
              "    <tr style=\"text-align: right;\">\n",
              "      <th></th>\n",
              "      <th>Age</th>\n",
              "      <th>Gender</th>\n",
              "      <th>Case Announcement Province</th>\n",
              "      <th>Event</th>\n",
              "      <th>Description</th>\n",
              "    </tr>\n",
              "  </thead>\n",
              "  <tbody>\n",
              "    <tr>\n",
              "      <th>0</th>\n",
              "      <td>58</td>\n",
              "      <td>female</td>\n",
              "      <td>Sichuan Province</td>\n",
              "      <td>visit patient</td>\n",
              "      <td>On January 26, 10:00, visit the patient at Shi...</td>\n",
              "    </tr>\n",
              "    <tr>\n",
              "      <th>1</th>\n",
              "      <td>58</td>\n",
              "      <td>female</td>\n",
              "      <td>Sichuan Province</td>\n",
              "      <td>Visit a critically ill father</td>\n",
              "      <td>On January 27, 16:00, visit the critically ill...</td>\n",
              "    </tr>\n",
              "    <tr>\n",
              "      <th>2</th>\n",
              "      <td>58</td>\n",
              "      <td>female</td>\n",
              "      <td>Sichuan Province</td>\n",
              "      <td>Funeral</td>\n",
              "      <td>January 31-February 5, funeral in Baohua Villa...</td>\n",
              "    </tr>\n",
              "    <tr>\n",
              "      <th>3</th>\n",
              "      <td>58</td>\n",
              "      <td>female</td>\n",
              "      <td>Sichuan Province</td>\n",
              "      <td>Was sent to a centralized medical observation ...</td>\n",
              "      <td>On February 9, at 20:00, a close contact with ...</td>\n",
              "    </tr>\n",
              "    <tr>\n",
              "      <th>4</th>\n",
              "      <td>51</td>\n",
              "      <td>female</td>\n",
              "      <td>Sichuan Province</td>\n",
              "      <td>Come back home</td>\n",
              "      <td>1月19日, 雷某英独自从武汉返回泸县牛滩镇寿尊村10社家中</td>\n",
              "    </tr>\n",
              "  </tbody>\n",
              "</table>\n",
              "</div>"
            ],
            "text/plain": [
              "   Age  ...                                        Description\n",
              "0   58  ...  On January 26, 10:00, visit the patient at Shi...\n",
              "1   58  ...  On January 27, 16:00, visit the critically ill...\n",
              "2   58  ...  January 31-February 5, funeral in Baohua Villa...\n",
              "3   58  ...  On February 9, at 20:00, a close contact with ...\n",
              "4   51  ...                     1月19日, 雷某英独自从武汉返回泸县牛滩镇寿尊村10社家中\n",
              "\n",
              "[5 rows x 5 columns]"
            ]
          },
          "metadata": {
            "tags": []
          },
          "execution_count": 33
        }
      ]
    },
    {
      "cell_type": "code",
      "metadata": {
        "id": "u0oMm6OVZRLJ",
        "colab_type": "code",
        "colab": {
          "base_uri": "https://localhost:8080/",
          "height": 17
        },
        "outputId": "4584450c-df05-4cd3-ffbf-54cbf1e70fa2"
      },
      "source": [
        "from google.colab import files\n",
        "\n",
        "df_en.to_csv('covid-en-0.5.csv')\n",
        "files.download('covid-en-0.5.csv')"
      ],
      "execution_count": null,
      "outputs": [
        {
          "output_type": "display_data",
          "data": {
            "application/javascript": [
              "\n",
              "    async function download(id, filename, size) {\n",
              "      if (!google.colab.kernel.accessAllowed) {\n",
              "        return;\n",
              "      }\n",
              "      const div = document.createElement('div');\n",
              "      const label = document.createElement('label');\n",
              "      label.textContent = `Downloading \"${filename}\": `;\n",
              "      div.appendChild(label);\n",
              "      const progress = document.createElement('progress');\n",
              "      progress.max = size;\n",
              "      div.appendChild(progress);\n",
              "      document.body.appendChild(div);\n",
              "\n",
              "      const buffers = [];\n",
              "      let downloaded = 0;\n",
              "\n",
              "      const channel = await google.colab.kernel.comms.open(id);\n",
              "      // Send a message to notify the kernel that we're ready.\n",
              "      channel.send({})\n",
              "\n",
              "      for await (const message of channel.messages) {\n",
              "        // Send a message to notify the kernel that we're ready.\n",
              "        channel.send({})\n",
              "        if (message.buffers) {\n",
              "          for (const buffer of message.buffers) {\n",
              "            buffers.push(buffer);\n",
              "            downloaded += buffer.byteLength;\n",
              "            progress.value = downloaded;\n",
              "          }\n",
              "        }\n",
              "      }\n",
              "      const blob = new Blob(buffers, {type: 'application/binary'});\n",
              "      const a = document.createElement('a');\n",
              "      a.href = window.URL.createObjectURL(blob);\n",
              "      a.download = filename;\n",
              "      div.appendChild(a);\n",
              "      a.click();\n",
              "      div.remove();\n",
              "    }\n",
              "  "
            ],
            "text/plain": [
              "<IPython.core.display.Javascript object>"
            ]
          },
          "metadata": {
            "tags": []
          }
        },
        {
          "output_type": "display_data",
          "data": {
            "application/javascript": [
              "download(\"download_d9320e76-a106-423e-85d5-90f79481539d\", \"covid-en-0.5.csv\", 1482546)"
            ],
            "text/plain": [
              "<IPython.core.display.Javascript object>"
            ]
          },
          "metadata": {
            "tags": []
          }
        }
      ]
    }
  ]
}